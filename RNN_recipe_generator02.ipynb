{
  "nbformat": 4,
  "nbformat_minor": 0,
  "metadata": {
    "kernelspec": {
      "display_name": "Python 3",
      "language": "python",
      "name": "python3"
    },
    "language_info": {
      "codemirror_mode": {
        "name": "ipython",
        "version": 3
      },
      "file_extension": ".py",
      "mimetype": "text/x-python",
      "name": "python",
      "nbconvert_exporter": "python",
      "pygments_lexer": "ipython3",
      "version": "3.7.1"
    },
    "latex_envs": {
      "LaTeX_envs_menu_present": true,
      "autoclose": false,
      "autocomplete": true,
      "bibliofile": "biblio.bib",
      "cite_by": "apalike",
      "current_citInitial": 1,
      "eqLabelWithNumbers": true,
      "eqNumInitial": 1,
      "hotkeys": {
        "equation": "Ctrl-E",
        "itemize": "Ctrl-I"
      },
      "labels_anchors": false,
      "latex_user_defs": false,
      "report_style_numbering": false,
      "user_envs_cfg": false
    },
    "toc": {
      "base_numbering": 1,
      "nav_menu": {},
      "number_sections": true,
      "sideBar": true,
      "skip_h1_title": false,
      "title_cell": "Table of Contents",
      "title_sidebar": "Contents",
      "toc_cell": false,
      "toc_position": {},
      "toc_section_display": true,
      "toc_window_display": false
    },
    "colab": {
      "name": "RNN_recipe_generator02.ipynb",
      "provenance": [],
      "collapsed_sections": []
    }
  },
  "cells": [
    {
      "cell_type": "markdown",
      "metadata": {
        "id": "w-GuJU9woG9q"
      },
      "source": [
        "# Генерация рецептов с помощью RNN\n"
      ]
    },
    {
      "cell_type": "code",
      "metadata": {
        "ExecuteTime": {
          "end_time": "2019-11-05T18:20:34.854793Z",
          "start_time": "2019-11-05T18:20:34.372865Z"
        },
        "id": "XMeVYO4KoG-q"
      },
      "source": [
        "import os\n",
        "\n",
        "import numpy as np\n",
        "import pandas as pd\n",
        "import matplotlib.pyplot as plt\n",
        "%matplotlib inline\n",
        "PATH_TO_DATA='../content/gdrive/My Drive/datasets/'"
      ],
      "execution_count": 1,
      "outputs": []
    },
    {
      "cell_type": "code",
      "metadata": {
        "colab": {
          "base_uri": "https://localhost:8080/"
        },
        "id": "gocN395pqO1W",
        "outputId": "0d55ab83-c00c-4379-ea6e-075558392726"
      },
      "source": [
        "# подключаем гугл диск на котором данные\r\n",
        "from google.colab import drive\r\n",
        "drive.mount ('/content/gdrive', force_remount = True)"
      ],
      "execution_count": 2,
      "outputs": [
        {
          "output_type": "stream",
          "text": [
            "Mounted at /content/gdrive\n"
          ],
          "name": "stdout"
        }
      ]
    },
    {
      "cell_type": "code",
      "metadata": {
        "colab": {
          "base_uri": "https://localhost:8080/"
        },
        "id": "SEYhVFG9qjjH",
        "outputId": "6fcc0cb8-18ef-4b01-cf36-e336db85519c"
      },
      "source": [
        "!ls /content/gdrive/'My Drive'/datasets"
      ],
      "execution_count": 3,
      "outputs": [
        {
          "output_type": "stream",
          "text": [
            "author_quotes.txt\t\t   r_n.txt\n",
            "BIO_recipe_dataset.txt\t\t   war_and_peace_bpe_train.txt\n",
            "ingredients01.csv\t\t   war_and_peace.txt\n",
            "ncep\t\t\t\t   wildfires_check.csv\n",
            "nyt-ingredients-head.csv\t   wildfires_train.csv\n",
            "nyt-ingredients-snapshot-2015.csv  wildfires_train.gsheet\n",
            "RAW_recipes.csv\n"
          ],
          "name": "stdout"
        }
      ]
    },
    {
      "cell_type": "code",
      "metadata": {
        "colab": {
          "base_uri": "https://localhost:8080/",
          "height": 340
        },
        "id": "7Nn-XGof0QdB",
        "outputId": "998b41b9-52b1-499a-a038-da930ec13a56"
      },
      "source": [
        "data_df=pd.read_csv(PATH_TO_DATA+'ingredients01.csv',header=0)\r\n",
        "data_df.head(10)"
      ],
      "execution_count": 4,
      "outputs": [
        {
          "output_type": "execute_result",
          "data": {
            "text/html": [
              "<div>\n",
              "<style scoped>\n",
              "    .dataframe tbody tr th:only-of-type {\n",
              "        vertical-align: middle;\n",
              "    }\n",
              "\n",
              "    .dataframe tbody tr th {\n",
              "        vertical-align: top;\n",
              "    }\n",
              "\n",
              "    .dataframe thead th {\n",
              "        text-align: right;\n",
              "    }\n",
              "</style>\n",
              "<table border=\"1\" class=\"dataframe\">\n",
              "  <thead>\n",
              "    <tr style=\"text-align: right;\">\n",
              "      <th></th>\n",
              "      <th>['winter squash', 'mexican seasoning', 'mixed spice', 'honey', 'butter', 'olive oil', 'salt']</th>\n",
              "    </tr>\n",
              "  </thead>\n",
              "  <tbody>\n",
              "    <tr>\n",
              "      <th>0</th>\n",
              "      <td>['prepared pizza crust', 'sausage patty', 'egg...</td>\n",
              "    </tr>\n",
              "    <tr>\n",
              "      <th>1</th>\n",
              "      <td>['ground beef', 'yellow onions', 'diced tomato...</td>\n",
              "    </tr>\n",
              "    <tr>\n",
              "      <th>2</th>\n",
              "      <td>['spreadable cheese with garlic and herbs', 'n...</td>\n",
              "    </tr>\n",
              "    <tr>\n",
              "      <th>3</th>\n",
              "      <td>['tomato juice', 'apple cider vinegar', 'sugar...</td>\n",
              "    </tr>\n",
              "    <tr>\n",
              "      <th>4</th>\n",
              "      <td>['milk', 'vanilla ice cream', 'frozen apple ju...</td>\n",
              "    </tr>\n",
              "    <tr>\n",
              "      <th>5</th>\n",
              "      <td>['fennel seeds', 'green olives', 'ripe olives'...</td>\n",
              "    </tr>\n",
              "    <tr>\n",
              "      <th>6</th>\n",
              "      <td>['pork spareribs', 'soy sauce', 'fresh garlic'...</td>\n",
              "    </tr>\n",
              "    <tr>\n",
              "      <th>7</th>\n",
              "      <td>['chocolate sandwich style cookies', 'chocolat...</td>\n",
              "    </tr>\n",
              "    <tr>\n",
              "      <th>8</th>\n",
              "      <td>['sugar', 'unsalted butter', 'bananas', 'eggs'...</td>\n",
              "    </tr>\n",
              "    <tr>\n",
              "      <th>9</th>\n",
              "      <td>['whole berry cranberry sauce', 'sour cream', ...</td>\n",
              "    </tr>\n",
              "  </tbody>\n",
              "</table>\n",
              "</div>"
            ],
            "text/plain": [
              "  ['winter squash', 'mexican seasoning', 'mixed spice', 'honey', 'butter', 'olive oil', 'salt']\n",
              "0  ['prepared pizza crust', 'sausage patty', 'egg...                                           \n",
              "1  ['ground beef', 'yellow onions', 'diced tomato...                                           \n",
              "2  ['spreadable cheese with garlic and herbs', 'n...                                           \n",
              "3  ['tomato juice', 'apple cider vinegar', 'sugar...                                           \n",
              "4  ['milk', 'vanilla ice cream', 'frozen apple ju...                                           \n",
              "5  ['fennel seeds', 'green olives', 'ripe olives'...                                           \n",
              "6  ['pork spareribs', 'soy sauce', 'fresh garlic'...                                           \n",
              "7  ['chocolate sandwich style cookies', 'chocolat...                                           \n",
              "8  ['sugar', 'unsalted butter', 'bananas', 'eggs'...                                           \n",
              "9  ['whole berry cranberry sauce', 'sour cream', ...                                           "
            ]
          },
          "metadata": {
            "tags": []
          },
          "execution_count": 4
        }
      ]
    },
    {
      "cell_type": "code",
      "metadata": {
        "id": "5l9sc1kSCpP_"
      },
      "source": [
        "data_df.columns=['Ingredients']"
      ],
      "execution_count": 5,
      "outputs": []
    },
    {
      "cell_type": "code",
      "metadata": {
        "colab": {
          "base_uri": "https://localhost:8080/",
          "height": 194
        },
        "id": "xKKu5zefCwTV",
        "outputId": "5924c31c-4f68-4427-fee0-74c6c97fb311"
      },
      "source": [
        "data_df.head()"
      ],
      "execution_count": 6,
      "outputs": [
        {
          "output_type": "execute_result",
          "data": {
            "text/html": [
              "<div>\n",
              "<style scoped>\n",
              "    .dataframe tbody tr th:only-of-type {\n",
              "        vertical-align: middle;\n",
              "    }\n",
              "\n",
              "    .dataframe tbody tr th {\n",
              "        vertical-align: top;\n",
              "    }\n",
              "\n",
              "    .dataframe thead th {\n",
              "        text-align: right;\n",
              "    }\n",
              "</style>\n",
              "<table border=\"1\" class=\"dataframe\">\n",
              "  <thead>\n",
              "    <tr style=\"text-align: right;\">\n",
              "      <th></th>\n",
              "      <th>Ingredients</th>\n",
              "    </tr>\n",
              "  </thead>\n",
              "  <tbody>\n",
              "    <tr>\n",
              "      <th>0</th>\n",
              "      <td>['prepared pizza crust', 'sausage patty', 'egg...</td>\n",
              "    </tr>\n",
              "    <tr>\n",
              "      <th>1</th>\n",
              "      <td>['ground beef', 'yellow onions', 'diced tomato...</td>\n",
              "    </tr>\n",
              "    <tr>\n",
              "      <th>2</th>\n",
              "      <td>['spreadable cheese with garlic and herbs', 'n...</td>\n",
              "    </tr>\n",
              "    <tr>\n",
              "      <th>3</th>\n",
              "      <td>['tomato juice', 'apple cider vinegar', 'sugar...</td>\n",
              "    </tr>\n",
              "    <tr>\n",
              "      <th>4</th>\n",
              "      <td>['milk', 'vanilla ice cream', 'frozen apple ju...</td>\n",
              "    </tr>\n",
              "  </tbody>\n",
              "</table>\n",
              "</div>"
            ],
            "text/plain": [
              "                                         Ingredients\n",
              "0  ['prepared pizza crust', 'sausage patty', 'egg...\n",
              "1  ['ground beef', 'yellow onions', 'diced tomato...\n",
              "2  ['spreadable cheese with garlic and herbs', 'n...\n",
              "3  ['tomato juice', 'apple cider vinegar', 'sugar...\n",
              "4  ['milk', 'vanilla ice cream', 'frozen apple ju..."
            ]
          },
          "metadata": {
            "tags": []
          },
          "execution_count": 6
        }
      ]
    },
    {
      "cell_type": "code",
      "metadata": {
        "colab": {
          "base_uri": "https://localhost:8080/"
        },
        "id": "OrUjAUwcBVBr",
        "outputId": "97ce3751-6c7f-47c2-9833-a61b1b28e646"
      },
      "source": [
        "data_df.shape"
      ],
      "execution_count": 7,
      "outputs": [
        {
          "output_type": "execute_result",
          "data": {
            "text/plain": [
              "(231636, 1)"
            ]
          },
          "metadata": {
            "tags": []
          },
          "execution_count": 7
        }
      ]
    },
    {
      "cell_type": "code",
      "metadata": {
        "id": "SAbS3Jj0-Lvp"
      },
      "source": [
        "names=data_df['Ingredients'][:100]"
      ],
      "execution_count": 8,
      "outputs": []
    },
    {
      "cell_type": "code",
      "metadata": {
        "ExecuteTime": {
          "end_time": "2019-11-05T18:21:03.509714Z",
          "start_time": "2019-11-05T18:21:03.491489Z"
        },
        "id": "Tts-beeAoG-y"
      },
      "source": [
        "#with open(PATH_TO_DATA+'r_n.txt') as input_file:\n",
        "#    names = input_file.read()[:-1].split('\\n')\n",
        "#    names = [' ' + line for line in names]"
      ],
      "execution_count": null,
      "outputs": []
    },
    {
      "cell_type": "code",
      "metadata": {
        "ExecuteTime": {
          "end_time": "2019-11-05T18:21:03.946758Z",
          "start_time": "2019-11-05T18:21:03.938432Z"
        },
        "colab": {
          "base_uri": "https://localhost:8080/"
        },
        "id": "KShAnIYQoG-1",
        "outputId": "4242cfcd-d098-4620-e299-dc1eb347f846"
      },
      "source": [
        "names[:5]"
      ],
      "execution_count": 9,
      "outputs": [
        {
          "output_type": "execute_result",
          "data": {
            "text/plain": [
              "0    ['prepared pizza crust', 'sausage patty', 'egg...\n",
              "1    ['ground beef', 'yellow onions', 'diced tomato...\n",
              "2    ['spreadable cheese with garlic and herbs', 'n...\n",
              "3    ['tomato juice', 'apple cider vinegar', 'sugar...\n",
              "4    ['milk', 'vanilla ice cream', 'frozen apple ju...\n",
              "Name: Ingredients, dtype: object"
            ]
          },
          "metadata": {
            "tags": []
          },
          "execution_count": 9
        }
      ]
    },
    {
      "cell_type": "markdown",
      "metadata": {
        "id": "VEsxWPZaoG-3"
      },
      "source": [
        "Посмотрим на распределение длин рецептов:"
      ]
    },
    {
      "cell_type": "code",
      "metadata": {
        "ExecuteTime": {
          "end_time": "2019-11-05T18:21:05.420060Z",
          "start_time": "2019-11-05T18:21:05.179513Z"
        },
        "colab": {
          "base_uri": "https://localhost:8080/",
          "height": 281
        },
        "id": "XY3C2j2_oG-5",
        "outputId": "cef10098-c768-4a54-8836-671833401329"
      },
      "source": [
        "plt.title('Name length distribution')\n",
        "plt.hist(list(map(len, names)), bins=25);"
      ],
      "execution_count": 10,
      "outputs": [
        {
          "output_type": "display_data",
          "data": {
            "image/png": "[encoded data removed]",
            "text/plain": [
              "<Figure size 432x288 with 1 Axes>"
            ]
          },
          "metadata": {
            "tags": [],
            "needs_background": "light"
          }
        }
      ]
    },
    {
      "cell_type": "code",
      "metadata": {
        "id": "6t-IzIWzFXdB"
      },
      "source": [
        "tokens_set=set()  #for tokens\r\n",
        "good_data_list=[] #list for prepared data\r\n",
        "for n in names:\r\n",
        "  n=n[2:-2]\r\n",
        "  temp=['START']  #THIS IS TECHNIKAL ELEMENT FOR MODEL TO START WITH\r\n",
        "  temp.extend(list(map(str,n.split(\"', '\"))))\r\n",
        "  good_data_list.append(temp)\r\n",
        "\r\n",
        "\r\n",
        "  #print(set(temp))\r\n",
        "  tokens_set.update(set(temp))"
      ],
      "execution_count": 22,
      "outputs": []
    },
    {
      "cell_type": "code",
      "metadata": {
        "colab": {
          "base_uri": "https://localhost:8080/"
        },
        "id": "AKm8-8zt28dj",
        "outputId": "0064fd6f-e507-464e-ab96-1d76259b7ed1"
      },
      "source": [
        "good_data_list[:5]"
      ],
      "execution_count": 23,
      "outputs": [
        {
          "output_type": "execute_result",
          "data": {
            "text/plain": [
              "[['START',\n",
              "  'prepared pizza crust',\n",
              "  'sausage patty',\n",
              "  'eggs',\n",
              "  'milk',\n",
              "  'salt and pepper',\n",
              "  'cheese'],\n",
              " ['START',\n",
              "  'ground beef',\n",
              "  'yellow onions',\n",
              "  'diced tomatoes',\n",
              "  'tomato paste',\n",
              "  'tomato soup',\n",
              "  'rotel tomatoes',\n",
              "  'kidney beans',\n",
              "  'water',\n",
              "  'chili powder',\n",
              "  'ground cumin',\n",
              "  'salt',\n",
              "  'lettuce',\n",
              "  'cheddar cheese'],\n",
              " ['START',\n",
              "  'spreadable cheese with garlic and herbs',\n",
              "  'new potatoes',\n",
              "  'shallots',\n",
              "  'parsley',\n",
              "  'tarragon',\n",
              "  'olive oil',\n",
              "  'red wine vinegar',\n",
              "  'salt',\n",
              "  'pepper',\n",
              "  'red bell pepper',\n",
              "  'yellow bell pepper'],\n",
              " ['START',\n",
              "  'tomato juice',\n",
              "  'apple cider vinegar',\n",
              "  'sugar',\n",
              "  'salt',\n",
              "  'pepper',\n",
              "  'clove oil',\n",
              "  'cinnamon oil',\n",
              "  'dry mustard'],\n",
              " ['START',\n",
              "  'milk',\n",
              "  'vanilla ice cream',\n",
              "  'frozen apple juice concentrate',\n",
              "  'apple']]"
            ]
          },
          "metadata": {
            "tags": []
          },
          "execution_count": 23
        }
      ]
    },
    {
      "cell_type": "code",
      "metadata": {
        "colab": {
          "base_uri": "https://localhost:8080/"
        },
        "id": "__5Lo-1tGp5_",
        "outputId": "0838c077-cd8f-4069-884b-019fae15876e"
      },
      "source": [
        "print(len(tokens_set),tokens_set)  #lets see the len of vocabulary and examples"
      ],
      "execution_count": 24,
      "outputs": [
        {
          "output_type": "stream",
          "text": [
            "431 {'parsley', 'beef consomme', 'ground pepper', 'sour cream', 'philadelphia cream cheese', 'onion', 'paprika', 'dry yeast', 'cilantro', 'picante sauce', 'cake flour', 'parsley flakes', 'whole berry cranberry sauce', 'egg substitute', 'green onion', 'cookie', 'broccoli', 'yellow cake mix', 'wood bethony', 'cooking oil', 'hot water', 'white pepper', 'scallions', 'chicken breasts', 'orange juice', 'margarine', 'strawberry', 'sambal oelek', 'yellow bell pepper', 'fresh ground black pepper', 'beef bouillon cube', 'fresh garlic', 'tomato puree', 'chicken bouillon cubes', 'nuts', 'toasted sesame oil', 'ground beef', 'hamburger buns', 'bacon', 'condensed cream of mushroom soup', 'white kidney beans', 'orange rind', 'scullcap herb', 'chicken rice soup', 'START', 'tarragon', 'tempeh', 'dried oregano', 'chat masala', 'peanuts', 'chopped tomato', 'tomato juice', 'good seasonings italian salad dressing mix', 'black beans', 'all-purpose flour', 'green pepper', 'kidney beans', 'chinese noodles', 'carrots', 'dried parsley', 'fettuccine pasta', 'lasagna noodle', 'great northern bean', 'vegetable bouillon cubes', 'cabbage', 'red cinnamon candies', 'rolls', 'salt & freshly ground black pepper', 'flour', 'white wine', 'non-fat powdered milk', 'rolled oats', 'red wine vinegar', 'hot chili pepper', 'bibb lettuce', 'dried sweet basil leaves', 'chicken stock', 'french bread', 'icing sugar', 'cinnamon', 'celery', 'egg yolks', 'natural-style peanut butter', 'desiccated coconut', 'white onion', 'genoa salami', 'broccoli stem', 'garbanzo beans', 'half-and-half', 'orange, juice of', 'clove oil', 'potatoes', 'ground turmeric', 'ham', 'yellow onion', 'fennel seeds', 'salt free herb and spice seasoning mix', 'tomato sauce', 'plain yogurt', 'basil', 'ground cloves', 'green olives', 'bananas', 'fresh breadcrumb', 'jalapeno', 'white sugar', 'whole kernel corn', 'fresh lemon juice', 'frozen chopped spinach', 'ground pork', 'frozen vegetables', 'salmon', 'oregano leaves', 'canola oil', 'poultry seasoning', 'lemon, rind of', 'pepper', 'frozen juice concentrate', 'ground cumin', 'salt & pepper', 'boiling potatoes', 'gelatin', 'rubbed sage', 'vermicelli', 'beef ribs', 'cumin', 'water chestnut', 'bread', 'chocolate syrup', 'baking powder', 'vegetarian ground beef', 'apple', 'pasta', 'sliced mushrooms', 'jiffy corn muffin mix', 'reduced sodium soy sauce', 'cheese', 'soft silken tofu', 'oil', 'fat-free mayonnaise', 'egg roll wrap', 'hass avocado', 'salted peanuts', '2% low-fat milk', 'chocolate sandwich style cookies', 'penne pasta', 'boneless skinless chicken thighs', 'broccoli floret', 'spices', 'button mushrooms', 'bean sprouts', 'boneless skinless chicken breast', 'kalamata olive', 'crackers', 'albacore tuna in water', 'ground cinnamon', 'cracked black pepper', 'molasses', 'red chile', 'part-skim ricotta cheese', 'egg', 'ground venison', 'lemon juice', 'cider vinegar', 'taco sauce', 'miniature peppermint patties', 'low-fat sour cream', 'italian sausage', 'yellow onions', 'walnuts', 'brine', 'milk chocolate candy bars', 'oreo cookie crumbs', 'prepared yellow mustard', 'unsweetened chocolate squares', 'apple juice', 'red potatoes', 'cooked chicken', 'green beans', 'butter', 'cinnamon sticks', 'ground black pepper', 'sugar', 'cocoa', 'escarole', 'baking soda', 'sweet butter', 'heavy cream', 'black pepper', 'vanilla extract', 'chocolate chips', 'sausage patty', 'zucchini', 'baking potato', 'garlic powder', 'green onions', 'boneless skinless chicken breast halves', 'powdered sugar', 'pork spareribs', 'water', 'dark brown sugar', 'mozzarella cheese', 'mushroom pieces', 'mayonnaise', 'banana', 'vanilla ice cream', 'whole green chilies', 'potato', 'pecans', 'red pepper flakes', 'cheddar cheese', 'lean pork chops', 'boiling water', 'lettuce', 'crushed tomatoes', 'mustard', 'boneless chicken breast', 'prego spaghetti sauce', 'rotel tomatoes', 'fresh parsley', 'onions', 'whipping cream', 'stir fry vegetables', 'toasted wheat germ', 'veal roast', 'herbs', 'celery seed', 'dill pickles', 'ground coriander', 'ground thyme', 'a.1. original sauce', 'sandwich bun', 'onion powder', 'seasoning salt', 'diced tomatoes', 'coconut', 'cream', 'sweetened condensed milk', 'ciabatta', 'peppercorn', 'lime juice', 'honey', 'flat leaf parsley', 'ground cayenne pepper', 'olive oil flavored cooking spray', 'red chili pepper', 'unflavored gelatin', 'cucumber', 'swiss cheese', 'sugar-free non-fat vanilla yogurt', 'ham hock', 'red bell pepper', 'collard greens', 'raisins', 'sesame seeds', 'ricotta cheese', 'soy sauce', 'mirin', 'salt and pepper', 'iceberg lettuce', 'mustard powder', 'salsa', 'dried basil', 'tomato soup', 'fresh basil', 'fresh herb', 'shallots', 'rice vinegar', 'fresh ginger', 'vanilla', 'ground sirloin', 'apples', 'provolone cheese', 'dried breadcrumbs', 'cornmeal', 'white wine vinegar', 'prepared pizza crust', 'worcestershire sauce', 'diced pimentos', 'whiskey', 'wax beans', 'dry white wine', 'salt', 'beef steaks', 'carrot', 'cinnamon oil', 'dried dill weed', 'ground ginger', 'fresh herbs', 'parmesan cheese', 'dried thyme', 'corn', 'egg whites', 'granulated sugar', 'bean dip', 'garlic', 'lean ground beef', 'butterscotch chips', 'vegetable shortening', 'eggs', 'no-salt-added ketchup', 'plain low-fat yogurt', 'cornstarch', 'sodium-free vegetable broth', 'extra virgin olive oil', 'cauliflower', 'spicy mustard', 'condensed cream of chicken soup', 'avocado', 'sweet onion', 'hot sauce', 'oregano', 'gentian root', 'capers', 'ginger', 'whipped cream', 'liquid smoke', 'fresh corn', 'instant vanilla pudding', 'shortening', 'broth', 'sugar substitute', 'frozen apple juice concentrate', 'sweet pepper', 'dry ranch dressing mix', 'chili powder', 'black cumin', 'sesame oil', 'tabasco sauce', 'burnet root', 'jalapenos', 'crushed pineapple', 'bay leaf', 'fresh coarse ground black pepper', 'mccormick\\'s montreal brand steak seasoning\", \\'dill weed', 'taco seasoning', 'whole tomato', 'breadcrumbs', 'lemon, juice of', 'frozen french fries', 'fresh ground pepper', 'vegetable stock', 'betty crocker fudge brownie mix', 'sliced ripe olives', 'cloves', 'tomato paste', 'baking cocoa', 'sharp cheddar cheese', 'fresh cilantro', 'prepared graham cracker crusts', 'miniature semisweet chocolate chips', 'american cheese', 'peanut oil', 'low-fat buttermilk', 'elbow macaroni', 'beef stew meat', 'green grape', 'crouton', 'ketchup', 'cheddar cheese soup', 'nutmeg', 'cayenne pepper', 'cream of mushroom soup', 'chunky salsa', 'fresh cilantro leaves', 'white vinegar', 'rosemary', 'unsalted butter', 'vanilla wafers', 'condensed cream of mushroom & garlic soup', 'beef', 'red sweet bell peppers', 'black olives', 'apple cider vinegar', 'tomatoes', 'prepared mustard', 'stewed tomatoes', 'sweet corn', 'parsley sprigs', 'cottage cheese', 'lemons, juice of', 'chili-garlic sauce', 'coarse salt', 'dry mustard', 'light olive oil', 'apple pie filling', 'angel hair pasta', 'white bread', 'yogurt', 'cayenne', 'spearmint', 'beef broth', 'yam', 'vanilla instant pudding mix', 'beer', 'ripe olives', 'buckwheat flour', 'thyme', 'frozen peas', 'low sodium chicken broth', 'italian seasoning', 'soft breadcrumbs', 'deli turkey', 'fat', 'fresh tomato', 'spinach', 'vegetable oil', 'salt & fresh ground pepper', 'cornbread mix', 'pepperoni', 'scallion', 'spreadable cheese with garlic and herbs', 'cream cheese', 'sage', 'fresh spinach leaves', 'brown sugar', 'prepared horseradish', 'milk', 'smoked chicken', 'toasted almonds', 'new potatoes', 'strawberry ice cream', 'tri-color spiral pasta', 'chives', 'green peas', 'unsweetened cocoa', 'pear', 'olive oil', 'monterey jack cheese', 'toasted sesame seeds', 'sorghum'}\n"
          ],
          "name": "stdout"
        }
      ]
    },
    {
      "cell_type": "code",
      "metadata": {
        "colab": {
          "base_uri": "https://localhost:8080/"
        },
        "id": "TH1zBGrlGTh_",
        "outputId": "e0fc0266-3c2a-43cd-b2f0-656d65f84a03"
      },
      "source": [
        "tokens=list(tokens_set)\r\n",
        "print(tokens[:5])"
      ],
      "execution_count": 25,
      "outputs": [
        {
          "output_type": "stream",
          "text": [
            "['parsley', 'beef consomme', 'ground pepper', 'sour cream', 'philadelphia cream cheese']\n"
          ],
          "name": "stdout"
        }
      ]
    },
    {
      "cell_type": "markdown",
      "metadata": {
        "id": "qrK5nCk3oG-8"
      },
      "source": [
        "# Препроцессинг"
      ]
    },
    {
      "cell_type": "code",
      "metadata": {
        "ExecuteTime": {
          "end_time": "2019-11-05T18:21:07.335188Z",
          "start_time": "2019-11-05T18:21:07.320148Z"
        },
        "colab": {
          "base_uri": "https://localhost:8080/"
        },
        "id": "K8L2wnkioG-_",
        "outputId": "e2f6de8d-058e-4462-ffe9-f990013e8d40"
      },
      "source": [
        "#all unique characters go here\n",
        "#tokens = list(set(''.join(names)))\n",
        "#tokens = list(set(names))\n",
        "num_tokens = len(tokens)\n",
        "print ('num_tokens = ', num_tokens)"
      ],
      "execution_count": 26,
      "outputs": [
        {
          "output_type": "stream",
          "text": [
            "num_tokens =  431\n"
          ],
          "name": "stdout"
        }
      ]
    },
    {
      "cell_type": "markdown",
      "metadata": {
        "id": "lktdhoCpoG_G"
      },
      "source": [
        "### Символы -> id\n",
        "\n",
        "Создадим словарь < ингридиент > -> < id >"
      ]
    },
    {
      "cell_type": "code",
      "metadata": {
        "ExecuteTime": {
          "end_time": "2019-11-05T18:21:07.674548Z",
          "start_time": "2019-11-05T18:21:07.671129Z"
        },
        "id": "YWRDvV-4oG_H"
      },
      "source": [
        "token_to_id = {token: idx for idx, token in enumerate(tokens)}\r\n",
        "#token_to_id={}\r\n",
        "#cnt=0  #counter\r\n",
        "#for elem in tokens:\r\n",
        "#  token_to_id[elem]=cnt\r\n",
        "#  cnt+=1"
      ],
      "execution_count": 27,
      "outputs": []
    },
    {
      "cell_type": "code",
      "metadata": {
        "ExecuteTime": {
          "end_time": "2019-11-05T18:21:07.838814Z",
          "start_time": "2019-11-05T18:21:07.833611Z"
        },
        "colab": {
          "base_uri": "https://localhost:8080/"
        },
        "id": "fs_7LvZkoG_J",
        "outputId": "c20e0ca4-4137-49ba-fe24-83003af46132"
      },
      "source": [
        "assert len(tokens) == len(token_to_id), \"dictionaries must have same size\"\n",
        "\n",
        "for i in range(num_tokens):\n",
        "    assert token_to_id[tokens[i]] == i, \"token identifier must be it's position in tokens list\"\n",
        "\n",
        "print(\"Seems OK!\")"
      ],
      "execution_count": 28,
      "outputs": [
        {
          "output_type": "stream",
          "text": [
            "Seems OK!\n"
          ],
          "name": "stdout"
        }
      ]
    },
    {
      "cell_type": "code",
      "metadata": {
        "colab": {
          "base_uri": "https://localhost:8080/"
        },
        "id": "zSdX_zWv-chP",
        "outputId": "3d4fe0d5-8321-4947-aede-393a84647439"
      },
      "source": [
        "token_to_id['START']"
      ],
      "execution_count": 29,
      "outputs": [
        {
          "output_type": "execute_result",
          "data": {
            "text/plain": [
              "44"
            ]
          },
          "metadata": {
            "tags": []
          },
          "execution_count": 29
        }
      ]
    },
    {
      "cell_type": "code",
      "metadata": {
        "ExecuteTime": {
          "end_time": "2019-11-05T18:21:07.988093Z",
          "start_time": "2019-11-05T18:21:07.977722Z"
        },
        "id": "9kiGKaQloG_L"
      },
      "source": [
        "def to_matrix(data, token_to_id, max_len=None, dtype='int32', batch_first = True):\n",
        "    \"\"\"Casts a list of names into rnn-digestable matrix\"\"\"\n",
        "    \n",
        "    max_len = max_len or max(map(len, data))\n",
        "    data_ix = np.zeros([len(data), max_len], dtype) + token_to_id['START']\n",
        "\n",
        "    for i in range(len(data)):\n",
        "        line_ix = [token_to_id[c] for c in data[i]]\n",
        "        data_ix[i, :len(line_ix)] = line_ix\n",
        "        \n",
        "    if not batch_first: # convert [batch, time] into [time, batch]\n",
        "        data_ix = np.transpose(data_ix)\n",
        "\n",
        "    return data_ix"
      ],
      "execution_count": 30,
      "outputs": []
    },
    {
      "cell_type": "code",
      "metadata": {
        "ExecuteTime": {
          "end_time": "2019-11-05T18:21:08.136936Z",
          "start_time": "2019-11-05T18:21:08.131609Z"
        },
        "colab": {
          "base_uri": "https://localhost:8080/"
        },
        "id": "19633tv0oG_N",
        "outputId": "260abec2-cf75-486c-9256-de45726b97d3"
      },
      "source": [
        "#Example: cast 4 names to matrices, pad with zeros\n",
        "#print('\\n'.join(names[::2000]))\n",
        "#print(to_matrix(names[::2000], token_to_id))\n",
        "#print(good_data_list)\n",
        "print(to_matrix(good_data_list,token_to_id))"
      ],
      "execution_count": 32,
      "outputs": [
        {
          "output_type": "stream",
          "text": [
            "[[ 44 276 191 ...  44  44  44]\n",
            " [ 44  36 168 ...  44  44  44]\n",
            " [ 44 411 420 ...  44  44  44]\n",
            " ...\n",
            " [ 44 412   3 ...  44  44  44]\n",
            " [ 44 334 300 ...  44  44  44]\n",
            " [ 44 247 207 ...  44  44  44]]\n"
          ],
          "name": "stdout"
        }
      ]
    },
    {
      "cell_type": "markdown",
      "metadata": {
        "id": "4blgxJiVoG_O"
      },
      "source": [
        "# Рекуррентные нейронные сети\n",
        "\n",
        "<img src=\"img/rnn.png\" width=480>"
      ]
    },
    {
      "cell_type": "code",
      "metadata": {
        "ExecuteTime": {
          "end_time": "2019-11-05T18:21:10.739438Z",
          "start_time": "2019-11-05T18:21:09.661222Z"
        },
        "id": "aAWRJR8boG_Q"
      },
      "source": [
        "import torch, torch.nn as nn\n",
        "import torch.nn.functional as F\n",
        "from torch.autograd import Variable"
      ],
      "execution_count": 33,
      "outputs": []
    },
    {
      "cell_type": "code",
      "metadata": {
        "ExecuteTime": {
          "end_time": "2019-11-05T18:21:10.751862Z",
          "start_time": "2019-11-05T18:21:10.741772Z"
        },
        "id": "vrQNTSNroG_U"
      },
      "source": [
        "class CharRNNCell(nn.Module):\n",
        "    \"\"\"\n",
        "    Implement the scheme above as torch module\n",
        "    \"\"\"\n",
        "    def __init__(self, num_tokens=len(tokens), embedding_size=16, rnn_num_units=64):\n",
        "        super(self.__class__,self).__init__()\n",
        "        self.num_units = rnn_num_units\n",
        "        \n",
        "        self.embedding = nn.Embedding(num_tokens, embedding_size)\n",
        "        self.rnn_update = nn.Linear(embedding_size + rnn_num_units, rnn_num_units)\n",
        "        self.rnn_to_logits = nn.Linear(rnn_num_units, num_tokens)\n",
        "        \n",
        "    def forward(self, x, h_prev):\n",
        "        \"\"\"\n",
        "        This method computes h_next(x, h_prev) and log P(x_next | h_next)\n",
        "        We'll call it repeatedly to produce the whole sequence.\n",
        "        \n",
        "        :param x: batch of character ids, variable containing vector of int64\n",
        "        :param h_prev: previous rnn hidden states, variable containing matrix [batch, rnn_num_units] of float32\n",
        "        \"\"\"\n",
        "        # get vector embedding of x\n",
        "        x_emb = self.embedding(x)\n",
        "        \n",
        "        # compute next hidden state using self.rnn_update\n",
        "        x_and_h = torch.cat([x_emb, h_prev], dim=1) #YOUR CODE HERE\n",
        "        h_next = self.rnn_update(x_and_h) #YOUR CODE HERE\n",
        "        \n",
        "        h_next = F.tanh(h_next)\n",
        "        \n",
        "        assert h_next.size() == h_prev.size()\n",
        "        \n",
        "        #compute logits for next character probs\n",
        "        logits = self.rnn_to_logits(h_next)\n",
        "        \n",
        "        return h_next, F.log_softmax(logits, -1)\n",
        "    \n",
        "    def initial_state(self, batch_size):\n",
        "        \"\"\" return rnn state before it processes first input (aka h0) \"\"\"\n",
        "        return Variable(torch.zeros(batch_size, self.num_units))"
      ],
      "execution_count": 34,
      "outputs": []
    },
    {
      "cell_type": "code",
      "metadata": {
        "ExecuteTime": {
          "end_time": "2019-11-05T18:21:11.071002Z",
          "start_time": "2019-11-05T18:21:11.052377Z"
        },
        "id": "viJDINNdoG_X"
      },
      "source": [
        "char_rnn = CharRNNCell()"
      ],
      "execution_count": 35,
      "outputs": []
    },
    {
      "cell_type": "markdown",
      "metadata": {
        "id": "G9apsZSmoG_Z"
      },
      "source": [
        "### Тренировка сети, RNN loop"
      ]
    },
    {
      "cell_type": "code",
      "metadata": {
        "ExecuteTime": {
          "end_time": "2019-11-05T18:21:11.521078Z",
          "start_time": "2019-11-05T18:21:11.510175Z"
        },
        "id": "BJ_1B7vdoG_b"
      },
      "source": [
        "def rnn_loop(rnn, batch_index):\n",
        "    \"\"\"\n",
        "    Computes log P(next_character) for all time-steps in names_ix\n",
        "    :param names_ix: an int32 matrix of shape [batch, time], output of to_matrix(names)\n",
        "    \"\"\"\n",
        "    batch_size, max_length = batch_index.size()\n",
        "    hid_state = rnn.initial_state(batch_size)\n",
        "    logprobs = []\n",
        "\n",
        "    for x_t in batch_index.transpose(0,1):\n",
        "        hid_state, logp_next = rnn(x_t, hid_state)  \n",
        "        logprobs.append(logp_next)\n",
        "        \n",
        "    return torch.stack(logprobs, dim=1)"
      ],
      "execution_count": 36,
      "outputs": []
    },
    {
      "cell_type": "markdown",
      "metadata": {
        "id": "xk4EkpGfoG_d"
      },
      "source": [
        "### Тренировка сети"
      ]
    },
    {
      "cell_type": "code",
      "metadata": {
        "ExecuteTime": {
          "end_time": "2019-11-05T18:21:12.120106Z",
          "start_time": "2019-11-05T18:21:12.109585Z"
        },
        "id": "Vfq6l52noG_e"
      },
      "source": [
        "from IPython.display import clear_output\n",
        "from random import sample\n",
        "\n",
        "char_rnn = CharRNNCell()\n",
        "opt = torch.optim.Adam(char_rnn.parameters())\n",
        "history = []"
      ],
      "execution_count": 37,
      "outputs": []
    },
    {
      "cell_type": "code",
      "metadata": {
        "ExecuteTime": {
          "end_time": "2019-11-05T18:21:23.521061Z",
          "start_time": "2019-11-05T18:21:12.302892Z"
        },
        "colab": {
          "base_uri": "https://localhost:8080/",
          "height": 265
        },
        "id": "TVi1gQamoG_f",
        "outputId": "3ff2b5b6-93bc-43a7-9852-93b724a6b64b"
      },
      "source": [
        "names=good_data_list\n",
        "MAX_LENGTH = max(map(len, names))\n",
        "for i in range(1000):\n",
        "    batch_ix = to_matrix(sample(names, 32), token_to_id, max_len=MAX_LENGTH)\n",
        "    batch_ix = torch.tensor(batch_ix, dtype=torch.int64)\n",
        "    \n",
        "    logp_seq = rnn_loop(char_rnn, batch_ix)\n",
        "    \n",
        "    # compute loss\n",
        "    predictions_logp = logp_seq[:, :-1]\n",
        "    actual_next_tokens = batch_ix[:, 1:]\n",
        "\n",
        "    loss = -torch.mean(torch.gather(predictions_logp, dim=2, index=actual_next_tokens[:,:,None]))###YOUR CODE\n",
        "    \n",
        "    # train with backprop\n",
        "    loss.backward()\n",
        "    opt.step()\n",
        "    opt.zero_grad()\n",
        "    \n",
        "    # visualizing training process\n",
        "    history.append(loss.data.numpy())\n",
        "    if (i + 1) % 100 == 0:\n",
        "        clear_output(True)\n",
        "        plt.plot(history,label='loss')\n",
        "        plt.legend()\n",
        "        plt.show()\n",
        "\n",
        "assert np.mean(history[:10]) > np.mean(history[-10:]), \"RNN didn't converge.\""
      ],
      "execution_count": 40,
      "outputs": [
        {
          "output_type": "display_data",
          "data": {
            "image/png": "[encoded data removed]",
            "text/plain": [
              "<Figure size 432x288 with 1 Axes>"
            ]
          },
          "metadata": {
            "tags": [],
            "needs_background": "light"
          }
        }
      ]
    },
    {
      "cell_type": "markdown",
      "metadata": {
        "id": "L6m-E4AzoG_i"
      },
      "source": [
        "### RNN: генерация рецептов"
      ]
    },
    {
      "cell_type": "code",
      "metadata": {
        "ExecuteTime": {
          "end_time": "2019-11-05T18:21:23.540765Z",
          "start_time": "2019-11-05T18:21:23.524503Z"
        },
        "id": "mS6lEHkcoG_l"
      },
      "source": [
        "def generate_sample(char_rnn, seed_phrase=['START'], max_length=MAX_LENGTH, temperature=1.0):\n",
        "    '''\n",
        "    The function generates text given a phrase of length at least SEQ_LENGTH.\n",
        "    :param seed_phrase: prefix characters. The RNN is asked to continue the phrase\n",
        "    :param max_length: maximum output length, including seed_phrase\n",
        "    :param temperature: coefficient for sampling.  higher temperature produces more chaotic outputs,\n",
        "                        smaller temperature converges to the single most likely output\n",
        "    '''\n",
        "    \n",
        "    x_sequence = [token_to_id[token] for token in seed_phrase]\n",
        "    x_sequence = torch.tensor([x_sequence], dtype=torch.int64)\n",
        "    hid_state = char_rnn.initial_state(batch_size=1)\n",
        "    \n",
        "    #feed the seed phrase, if any\n",
        "    for i in range(len(seed_phrase) - 1):\n",
        "        hid_state, _ = char_rnn(x_sequence[:, i], hid_state)\n",
        "    \n",
        "    #start generating\n",
        "    for _ in range(max_length - len(seed_phrase)):\n",
        "        hid_state, logp_next = char_rnn(x_sequence[:, -1], hid_state)\n",
        "        p_next = F.softmax(logp_next / temperature, dim=-1).data.numpy()[0]\n",
        "        \n",
        "        # sample next token and push it back into x_sequence\n",
        "        next_ix = np.random.choice(len(tokens), p=p_next)\n",
        "        next_ix = torch.tensor([[next_ix]], dtype=torch.int64)\n",
        "        x_sequence = torch.cat([x_sequence, next_ix], dim=1)\n",
        "        \n",
        "    return ''.join([tokens[ix] for ix in x_sequence.data.numpy()[0]])"
      ],
      "execution_count": 46,
      "outputs": []
    },
    {
      "cell_type": "code",
      "metadata": {
        "ExecuteTime": {
          "end_time": "2019-11-05T18:21:23.625562Z",
          "start_time": "2019-11-05T18:21:23.544968Z"
        },
        "colab": {
          "base_uri": "https://localhost:8080/"
        },
        "id": "W3BSrAsUoG_q",
        "outputId": "2fe713a8-05c9-4ba3-bb3e-a8edbb556666"
      },
      "source": [
        "for _ in range(10):\n",
        "    print(generate_sample(char_rnn))"
      ],
      "execution_count": 47,
      "outputs": [
        {
          "output_type": "stream",
          "text": [
            "STARTground venisonegg substitutenon-fat powdered milkwaterfresh breadcrumbground cuminoreganored pepper flakesSTARTSTARTSTARTSTARTSTARTSTARTSTARTSTARTSTARTSTARTSTARTSTARTSTARTSTART\n",
            "STARTground black pepperground gingerground corianderground cuminground turmericblack cuminbutterSTARTSTARTSTARTSTARTSTARTSTARTSTARTSTARTSTARTSTARTSTARTSTARTSTARTSTARTSTART\n",
            "STARTfrozen chopped spinacheggsground black pepperlasagna noodlemozzarella cheeseSTARTSTARTSTARTSTARTSTARTSTARTSTARTSTARTSTARTSTARTSTARTSTARTSTARTSTARTSTARTSTARTSTART\n",
            "STARTtomato juiceapple cider vinegarsoy saucehoneybrown sugargreen onionsbeef brothgreen onionolive oilbrothrolled oatscreamchili powderground cuminoreganonutssaltSTARTSTARTSTARTSTARTSTART\n",
            "STARTshorteningicing sugarvanillaplain yogurtbaking powdersugareggssaltblack pepperSTARTSTARTSTARTSTARTSTARTSTARTSTARTSTARTSTARTSTARTSTARTSTARTSTART\n",
            "STARTfrozen french friesrice vinegarfrozen vegetablescream of mushroom soupblack cuminSTARTSTARTSTARTSTARTSTARTSTARTSTARTSTARTSTARTSTARTSTARTSTARTSTARTSTARTSTARTSTARTSTART\n",
            "STARTcanola oilwaterdry yeastbaking powdersugarprepared mustardwatersaltcinnamonground clovescornstarchvanillaworcestershire saucewatergranulated sugarSTARTSTARTSTARTSTARTSTARTSTARTSTART\n",
            "STARTwhole kernel cornonionred bell pepperlemons, juice ofunsalted butterSTARTSTARTSTARTSTARTSTARTSTARTSTARTSTARTSTARTSTARTSTARTSTARTSTARTSTARTSTARTSTARTSTART\n",
            "STARTunflavored gelatinunsalted buttercarrotwaterfresh lemon juiceSTARTSTARTSTARTSTARTSTARTSTARTSTARTSTARTSTARTSTARTSTARTSTARTSTARTSTARTSTARTSTARTSTART\n",
            "STARTshorteningicing sugarmilklasagna noodleSTARTSTARTSTARTSTARTSTARTSTARTSTARTSTARTSTARTSTARTSTARTSTARTSTARTSTARTSTARTSTARTSTARTSTART\n"
          ],
          "name": "stdout"
        },
        {
          "output_type": "stream",
          "text": [
            "/usr/local/lib/python3.6/dist-packages/torch/nn/functional.py:1628: UserWarning: nn.functional.tanh is deprecated. Use torch.tanh instead.\n",
            "  warnings.warn(\"nn.functional.tanh is deprecated. Use torch.tanh instead.\")\n"
          ],
          "name": "stderr"
        }
      ]
    },
    {
      "cell_type": "code",
      "metadata": {
        "ExecuteTime": {
          "end_time": "2019-11-05T18:21:23.702249Z",
          "start_time": "2019-11-05T18:21:23.629226Z"
        },
        "colab": {
          "base_uri": "https://localhost:8080/"
        },
        "id": "Pj9DPzMloG_u",
        "outputId": "ca2ff881-1b2b-4ea2-d0bc-b51a245b7296"
      },
      "source": [
        "for _ in range(10):\n",
        "    print(generate_sample(char_rnn, seed_phrase=['START','milk']))"
      ],
      "execution_count": 49,
      "outputs": [
        {
          "output_type": "stream",
          "text": [
            "STARTmilkvanilla ice creamfrozen apple juice concentrateappleSTARTSTARTSTARTSTARTSTARTSTARTSTARTSTARTSTARTSTARTSTARTSTARTSTARTSTARTSTARTSTARTSTARTSTART\n",
            "STARTmilkcornmealbananassausage pattyeggsvanillayogurtSTARTSTARTSTARTSTARTSTARTSTARTSTARTSTARTSTARTSTARTSTARTSTARTSTARTSTARTSTART\n",
            "STARTmilktomatoesfrozen apple juice concentrateappleSTARTSTARTSTARTSTARTSTARTSTARTSTARTSTARTSTARTSTARTSTARTSTARTSTARTSTARTSTARTSTARTSTARTSTART\n",
            "STARTmilkcheddar cheese soupfresh garlicfresh parsleylasagna noodlegarliccinnamonsoy sauceoreganovanillanutmegmilkpenne pastaSTARTSTARTSTARTSTARTSTARTSTARTSTARTSTARTSTART\n",
            "STARTmilktomatoesfrozen apple juice concentratetempehsaltdried thymeSTARTSTARTSTARTSTARTSTARTSTARTSTARTSTARTSTARTSTARTSTARTSTARTSTARTSTARTSTARTSTART\n",
            "STARTmilkvanilla ice creamfrozen apple juice concentrateappleSTARTSTARTSTARTSTARTSTARTSTARTSTARTSTARTSTARTSTARTSTARTSTARTSTARTSTARTSTARTSTARTSTARTSTART\n",
            "STARTmilkcream cheesepowdered sugarapplepearvanillaSTARTSTARTSTARTSTARTSTARTSTARTSTARTSTARTSTARTSTARTSTARTSTARTSTARTSTARTSTARTSTART\n",
            "STARTmilkfrozen juice concentrateplain yogurtSTARTSTARTSTARTSTARTSTARTSTARTSTARTSTARTSTARTSTARTSTARTSTARTSTARTSTARTSTARTSTARTSTARTSTARTSTART\n",
            "STARTmilkfrozen juice concentrategarlicdeli turkeyground cuminfresh garlicfresh gingerjalapenoSTARTSTARTSTARTSTARTSTARTSTARTSTARTSTARTSTARTSTARTSTARTSTARTSTARTSTART\n",
            "STARTmilkcornstarchblack cuminwatercinnamon oilsaltSTARTSTARTSTARTSTARTSTARTSTARTSTARTSTARTSTARTSTARTSTARTSTARTSTARTSTARTSTARTSTART\n"
          ],
          "name": "stdout"
        },
        {
          "output_type": "stream",
          "text": [
            "/usr/local/lib/python3.6/dist-packages/torch/nn/functional.py:1628: UserWarning: nn.functional.tanh is deprecated. Use torch.tanh instead.\n",
            "  warnings.warn(\"nn.functional.tanh is deprecated. Use torch.tanh instead.\")\n"
          ],
          "name": "stderr"
        }
      ]
    },
    {
      "cell_type": "code",
      "metadata": {
        "id": "9BG4wcm1oHAT"
      },
      "source": [
        ""
      ],
      "execution_count": null,
      "outputs": []
    },
    {
      "cell_type": "code",
      "metadata": {
        "id": "gmiZXDyeAkhH"
      },
      "source": [
        ""
      ],
      "execution_count": null,
      "outputs": []
    }
  ]
}